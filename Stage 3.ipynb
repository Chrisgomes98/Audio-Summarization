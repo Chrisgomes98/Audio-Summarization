{
 "cells": [
  {
   "cell_type": "code",
   "execution_count": 14,
   "metadata": {},
   "outputs": [],
   "source": [
    "import numpy as np\n",
    "import librosa, librosa.display #librosa is a python package for music and audio analysis. It provides the building blocks necessary to create music information retrieval systems.\n",
    "import matplotlib.pyplot as plt\n",
    "class Preprocessing:\n",
    "    def __init__(self):\n",
    "        self.features = {}\n",
    "        \n",
    "    def insert_(self,key,value):\n",
    "        self.features[key] = value\n",
    "        \n",
    "    def reset(self):\n",
    "        self.features = {}\n",
    "        \n",
    "    def extract_features(self,signal):\n",
    "        #signal, sample_rate = librosa.load(file, sr=22050)#plot signal\n",
    "        self.insert_(\"signal\",signal)\n",
    "        self.insert_(\"sample rate\",sample_rate)\n",
    "        # FFT -> power spectrum\n",
    "        # perform Fourier transform\n",
    "        fft = np.fft.fft(signal)\n",
    "        # calculate abs values on complex numbers to get magnitude\n",
    "        spectrum = np.abs(fft)\n",
    "        # create frequency variable\n",
    "        f = np.linspace(0, sample_rate, len(spectrum))\n",
    "        # take half of the spectrum and frequency\n",
    "        left_spectrum = spectrum[:int(len(spectrum)/2)]#plot_fft\n",
    "        left_f = f[:int(len(spectrum)/2)]#plot_fft\n",
    "        self.insert_(\"FFT\",spectrum)\n",
    "        # STFT -> spectrogram\n",
    "        hop_length = 512 # in num. of samples\n",
    "        frame_length = 2*hop_length\n",
    "        n_fft = 2048 # window in num. of samples\n",
    "        # calculate duration hop length and window in seconds\n",
    "        hop_length_duration = float(hop_length)/sample_rate\n",
    "        n_fft_duration = float(n_fft)/sample_rate\n",
    "        #print(\"STFT hop length duration is: {}s\".format(hop_length_duration))\n",
    "        #print(\"STFT window duration is: {}s\".format(n_fft_duration))\n",
    "        # perform stft\n",
    "        stft = librosa.stft(signal, n_fft=n_fft, hop_length=hop_length)\n",
    "        # calculate abs values on complex numbers to get magnitude\n",
    "        spectrogram = np.abs(stft)#plot stft\n",
    "        self.insert_(\"STFT\",spectrogram)\n",
    "        log_spectrogram = librosa.amplitude_to_db(spectrogram)\n",
    "        self.insert_(\"STFT in Decibels\",log_spectrogram)\n",
    "        #ZCR\n",
    "        n1=0\n",
    "        n2=len(signal)\n",
    "        #ZC Calculation\n",
    "        zero_crossings = librosa.zero_crossings(signal[n1:n2], pad=False)\n",
    "        self.insert_(\"Zero Crossings\",sum(zero_crossings))\n",
    "        #ZCR Calculation \n",
    "        zcrs = librosa.feature.zero_crossing_rate(signal[n1:n2],frame_length=frame_length,hop_length=hop_length)\n",
    "        zcrs=list(np.around(np.array(zcrs)*frame_length).astype(int))\n",
    "        self.insert_(\"Zero Crossing Rate\",zcrs[0])\n",
    "        # MFCCs\n",
    "        # extract 13 MFCCs\n",
    "        MFCCs = librosa.feature.mfcc(signal, sample_rate, n_fft=n_fft, hop_length=hop_length, n_mfcc=13)\n",
    "        self.insert_(\"13 MFCCs\",MFCCs)\n",
    "        #Calculating Energy\n",
    "        energy = np.array([sum(abs(signal[i:i+frame_length]**2)) for i in range(0, len(signal), hop_length)])\n",
    "        self.insert_(\"Energy\",energy)\n",
    "        #Calculating RMSE\n",
    "        rmse = librosa.feature.rms(signal, frame_length=frame_length, hop_length=hop_length, center=True)\n",
    "        self.insert_(\"RMSE\",rmse[0])\n",
    "        return self.get_features()\n",
    "        \n",
    "    def get_features(self):\n",
    "        return self.features\n",
    "    \n",
    "    def get_feature_row(self,path=\"\",gender=\"\"):\n",
    "        self.extract_features(path)\n",
    "        features=self.get_features()\n",
    "        row={}\n",
    "        count=1\n",
    "        for i in features['13 MFCCs']:\n",
    "            row[str(count)]=[i]\n",
    "            count+=1\n",
    "        row['Zero Crossing Rate']=[features['Zero Crossing Rate']]\n",
    "        row['Energy']=[features['Energy']]\n",
    "        row['RMSE']=[features['RMSE']]\n",
    "        row['Gender']=[gender]\n",
    "        self.reset()\n",
    "        return row\n",
    "        \n",
    "        \n",
    "        \n",
    "        \n",
    "    "
   ]
  },
  {
   "cell_type": "code",
   "execution_count": 20,
   "metadata": {
    "scrolled": true
   },
   "outputs": [
    {
     "name": "stdout",
     "output_type": "stream",
     "text": [
      "audio\\Tracee Ellis Ross - A woman's fury holds lifetimes of wisdom _ TED.wav\n",
      "audio\\Bozoma Saint John - The creative power of your intuition _ TED.wav\n",
      "audio\\My year of saying yes to everything _ Shonda Rhimes.wav\n",
      "audio\\Roxane Gay - Confessions of a bad feminist _ TED.wav\n",
      "audio\\Quarenteaching _ Pete Mashinski _ TEDxArcadiaUniversity.wav\n",
      "audio\\Christopher Ategeka - How adoption worked for me _ TED.wav\n"
     ]
    }
   ],
   "source": [
    "import pandas as pd\n",
    "dataset=pd.read_csv(\"audio/dataset.csv\")\n",
    "names=dataset['Name']\n",
    "genders=dataset['Gender']\n",
    "signaln = int(661794/6)\n",
    "#df={'1':[], '2':[], '3':[], '4':[], '5':[], '6':[], '7':[], '8':[], '9':[], '10':[], '11':[], '12':[], '13':[], 'Zero Crossing Rate':[], 'Energy':[], 'RMSE':[], 'Gender':[]}\n",
    "for j in range(len(names)):\n",
    "    df={'1':[], '2':[], '3':[], '4':[], '5':[], '6':[], '7':[], '8':[], '9':[], '10':[], '11':[], '12':[], '13':[], 'Zero Crossing Rate':[], 'Energy':[], 'RMSE':[], 'Gender':[]}\n",
    "    name=\"audio\\\\\"+names[j]+\".wav\"\n",
    "    print(name)\n",
    "    gender=genders[j]\n",
    "    signal, sample_rate = librosa.load(name, sr=22050)#plot signal\n",
    "    for i in range(signaln*2,len(signal),signaln):\n",
    "        prp = Preprocessing()\n",
    "        feature_row = prp.get_feature_row(signal[i:i+signaln],gender)\n",
    "        for key in feature_row.keys():\n",
    "            df[key].append(feature_row[key][0])\n",
    "        prp.reset()\n",
    "    df = pd.DataFrame(df)\n",
    "    df.to_csv(str(j)+'.csv')"
   ]
  },
  {
   "cell_type": "code",
   "execution_count": 25,
   "metadata": {},
   "outputs": [],
   "source": [
    "import pandas as pd\n",
    "l=[]\n",
    "for i in range(len(names)):\n",
    "    l.append(pd.read_csv(str(i)+\".csv\"))\n",
    "df_master = pd.concat(l)\n",
    "df_master.to_csv(\"dataset.csv\")\n",
    "    "
   ]
  },
  {
   "cell_type": "code",
   "execution_count": null,
   "metadata": {},
   "outputs": [],
   "source": []
  },
  {
   "cell_type": "code",
   "execution_count": null,
   "metadata": {},
   "outputs": [],
   "source": []
  },
  {
   "cell_type": "code",
   "execution_count": null,
   "metadata": {},
   "outputs": [],
   "source": []
  },
  {
   "cell_type": "code",
   "execution_count": null,
   "metadata": {},
   "outputs": [],
   "source": []
  },
  {
   "cell_type": "code",
   "execution_count": 16,
   "metadata": {},
   "outputs": [],
   "source": []
  },
  {
   "cell_type": "code",
   "execution_count": 18,
   "metadata": {},
   "outputs": [],
   "source": []
  },
  {
   "cell_type": "code",
   "execution_count": null,
   "metadata": {},
   "outputs": [],
   "source": []
  },
  {
   "cell_type": "code",
   "execution_count": null,
   "metadata": {},
   "outputs": [],
   "source": []
  }
 ],
 "metadata": {
  "kernelspec": {
   "display_name": "Python 3",
   "language": "python",
   "name": "python3"
  },
  "language_info": {
   "codemirror_mode": {
    "name": "ipython",
    "version": 3
   },
   "file_extension": ".py",
   "mimetype": "text/x-python",
   "name": "python",
   "nbconvert_exporter": "python",
   "pygments_lexer": "ipython3",
   "version": "3.7.3"
  }
 },
 "nbformat": 4,
 "nbformat_minor": 5
}
