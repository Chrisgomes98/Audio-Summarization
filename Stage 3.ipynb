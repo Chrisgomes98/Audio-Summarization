{
 "cells": [
  {
   "cell_type": "code",
   "execution_count": 22,
   "id": "1f7cb9bd",
   "metadata": {},
   "outputs": [],
   "source": [
    "import numpy as np\n",
    "import librosa, librosa.display #librosa is a python package for music and audio analysis. It provides the building blocks necessary to create music information retrieval systems.\n",
    "import matplotlib.pyplot as plt\n",
    "class Preprocessing:\n",
    "    def __init__(self):\n",
    "        self.features = {}\n",
    "        \n",
    "    def insert_(self,key,value):\n",
    "        self.features[key] = value\n",
    "        \n",
    "    def extract_features(self,file=\"\"):\n",
    "        signal, sample_rate = librosa.load(file, sr=22050)#plot signal\n",
    "        self.insert_(\"signal\",signal)\n",
    "        self.insert_(\"sample rate\",sample_rate)\n",
    "        # FFT -> power spectrum\n",
    "        # perform Fourier transform\n",
    "        fft = np.fft.fft(signal)\n",
    "        # calculate abs values on complex numbers to get magnitude\n",
    "        spectrum = np.abs(fft)\n",
    "        # create frequency variable\n",
    "        f = np.linspace(0, sample_rate, len(spectrum))\n",
    "        # take half of the spectrum and frequency\n",
    "        left_spectrum = spectrum[:int(len(spectrum)/2)]#plot_fft\n",
    "        left_f = f[:int(len(spectrum)/2)]#plot_fft\n",
    "        self.insert_(\"FFT\",spectrum)\n",
    "        # STFT -> spectrogram\n",
    "        hop_length = 512 # in num. of samples\n",
    "        frame_length = 2*hop_length\n",
    "        n_fft = 2048 # window in num. of samples\n",
    "        # calculate duration hop length and window in seconds\n",
    "        hop_length_duration = float(hop_length)/sample_rate\n",
    "        n_fft_duration = float(n_fft)/sample_rate\n",
    "        print(\"STFT hop length duration is: {}s\".format(hop_length_duration))\n",
    "        print(\"STFT window duration is: {}s\".format(n_fft_duration))\n",
    "        # perform stft\n",
    "        stft = librosa.stft(signal, n_fft=n_fft, hop_length=hop_length)\n",
    "        # calculate abs values on complex numbers to get magnitude\n",
    "        spectrogram = np.abs(stft)#plot stft\n",
    "        self.insert_(\"STFT\",spectrogram)\n",
    "        log_spectrogram = librosa.amplitude_to_db(spectrogram)\n",
    "        self.insert_(\"STFT in Decibels\",log_spectrogram)\n",
    "        #ZCR\n",
    "        n1=0\n",
    "        n2=len(signal)\n",
    "        #ZC Calculation\n",
    "        zero_crossings = librosa.zero_crossings(signal[n1:n2], pad=False)\n",
    "        self.insert_(\"Zero Crossings\",sum(zero_crossings))\n",
    "        #ZCR Calculation \n",
    "        zcrs = librosa.feature.zero_crossing_rate(signal[n1:n2])\n",
    "        self.insert_(\"Zero Crossing Rate\",zcrs[0])\n",
    "        # MFCCs\n",
    "        # extract 13 MFCCs\n",
    "        MFCCs = librosa.feature.mfcc(signal, sample_rate, n_fft=n_fft, hop_length=hop_length, n_mfcc=13)\n",
    "        self.insert_(\"13 MFCCs\",MFCCs)\n",
    "        #Calculating Energy\n",
    "        energy = np.array([sum(abs(signal[i:i+frame_length]**2)) for i in range(0, len(signal), hop_length)])\n",
    "        self.insert_(\"Energy\",energy)\n",
    "        #Calculating RMSE\n",
    "        rmse = librosa.feature.rms(signal, frame_length=frame_length, hop_length=hop_length, center=True)\n",
    "        self.insert_(\"RMSE\",rmse[0])\n",
    "        return self.get_features()\n",
    "        \n",
    "    def get_features(self):\n",
    "        return self.features\n",
    "    \n",
    "        \n",
    "        \n",
    "        \n",
    "        \n",
    "    "
   ]
  },
  {
   "cell_type": "code",
   "execution_count": 23,
   "id": "ebb05911",
   "metadata": {
    "scrolled": true
   },
   "outputs": [
    {
     "name": "stdout",
     "output_type": "stream",
     "text": [
      "STFT hop length duration is: 0.023219954648526078s\n",
      "STFT window duration is: 0.09287981859410431s\n",
      "signal 661794\n",
      "sample rate <class 'int'>\n",
      "FFT 661794\n",
      "STFT 1025\n",
      "STFT in Decibels 1025\n",
      "Zero Crossings <class 'numpy.int32'>\n",
      "Zero Crossing Rate 1293\n",
      "13 MFCCs 13\n",
      "Energy 1293\n",
      "RMSE 1293\n"
     ]
    }
   ],
   "source": [
    "prp = Preprocessing()\n",
    "d = prp.extract_features(\"audio\\\\blues.00000.wav\")\n",
    "for k,v in d.items():\n",
    "    try:\n",
    "        print(k,len(d[k]))\n",
    "    except:\n",
    "        print(k,type(d[k]))"
   ]
  },
  {
   "cell_type": "code",
   "execution_count": null,
   "id": "398e57e3",
   "metadata": {},
   "outputs": [],
   "source": []
  }
 ],
 "metadata": {
  "kernelspec": {
   "display_name": "Python 3",
   "language": "python",
   "name": "python3"
  },
  "language_info": {
   "codemirror_mode": {
    "name": "ipython",
    "version": 3
   },
   "file_extension": ".py",
   "mimetype": "text/x-python",
   "name": "python",
   "nbconvert_exporter": "python",
   "pygments_lexer": "ipython3",
   "version": "3.8.9"
  }
 },
 "nbformat": 4,
 "nbformat_minor": 5
}
